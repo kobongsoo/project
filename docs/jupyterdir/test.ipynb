{
 "cells": [
  {
   "cell_type": "code",
   "execution_count": null,
   "id": "094a0567-498e-4ed1-beef-81ddf2c57767",
   "metadata": {},
   "outputs": [],
   "source": [
    "import os\n",
    "from os import sys\n",
    "sys.path.append('../../MpowerAI')\n",
    "from pympower.classes.mshaai import MShaAI\n",
    "\n",
    "shaai = MShaAI()"
   ]
  },
  {
   "cell_type": "code",
   "execution_count": null,
   "id": "3c35fb6f-f847-4a1d-9962-f541f9de5938",
   "metadata": {},
   "outputs": [],
   "source": [
    "srcPath = \"./data/경조사지원규정.pdf\"\n",
    "tgtName = \"경조사지원규정.txt\"\n",
    "OUT_FOLDER = \"./data/out\"\n",
    "\n",
    "if not os.path.exists(OUT_FOLDER):\n",
    "    os.makedirs(OUT_FOLDER)\n",
    "\n",
    "tgtPath = f\"{OUT_FOLDER}/{tgtName}\"\n",
    "\n",
    "shaai.extract(srcPath=srcPath, tgtPath=tgtPath)"
   ]
  },
  {
   "cell_type": "code",
   "execution_count": null,
   "id": "66049db5-33d2-4ddf-9a6d-8dccdadd4192",
   "metadata": {},
   "outputs": [],
   "source": [
    "# URL 이미지 => 저장 하는 예제\n",
    "import requests\n",
    "from io import BytesIO\n",
    "from PIL import Image\n",
    "\n",
    "def download_save(url:str, max_size=(128, 128)):\n",
    "    save_path = \"./data/test.jpg\"\n",
    "    \n",
    "    #이미지다운로드\n",
    "    response = requests.get(url)\n",
    "    if response.status_code == 200:\n",
    "        # 이미지 열기\n",
    "        img = Image.open(BytesIO(response.content))\n",
    "      \n",
    "        # [bong][2024-06-28] \n",
    "        # 노래만들기 할때 .PNG 파일 업로드 하면 에러남.\n",
    "        # => PNG 파일은 투명도를 포함할 수 있는 RGBA 모드를 사용할 수 있는데, 그러나 JPEG는 투명도를 지원하지 않기 때문에 에러남.\n",
    "        #=> 따라서 PNG 파일을 JPEG로 변환시 투명 부분을 흰색으로 처리함.\n",
    "        if img.mode == 'RGBA':\n",
    "            # 흰색 배경의 새로운 이미지 생성\n",
    "            background = Image.new(\"RGB\", img.size, (255, 255, 255))\n",
    "            # 기존 이미지를 배경 이미지에 덮어쓰기\n",
    "            background.paste(img, (0, 0), img)\n",
    "            img = background\n",
    "            \n",
    "        # 이미지 크기 확인 및 조정\n",
    "        if img.size[0] > max_size[0] or img.size[1] > max_size[1]:\n",
    "            img.thumbnail(max_size)\n",
    "            \n",
    "        # JPG 형식으로 저장\n",
    "        img.save(save_path, \"JPEG\")\n",
    "        print(f\"이미지가 성공적으로 저장되었습니다: {save_path}\")\n",
    " \n",
    "url = \"https://talk.kakaocdn.net/dna/cgCWKI/bl6V8v6z9s5/rQjDUMvgkLE9Nfv9vbdUPj/i_c75fc38092bd.png?credential=zf3biCPbmWRjbqf40YGePFLewdou7TIK&expires=1814139966&signature=PqVn8TnouSuPJzXFqWzWZRxBZqI%3D\"\n",
    "\n",
    "download_save(url=url)"
   ]
  },
  {
   "cell_type": "code",
   "execution_count": null,
   "id": "b39de1a1-c1be-4aec-8c5e-fb2c01588ba1",
   "metadata": {},
   "outputs": [],
   "source": [
    "from utils import MyUtils\n",
    "myutils = MyUtils(yam_file_path='./data/settings.yaml')\n",
    "\n",
    "OUT_FOLDER = \"./files/out\"\n",
    "file_paths = myutils.getListOfFiles(OUT_FOLDER)\n",
    "for idx, file_path in enumerate(file_paths):\n",
    "    if '.ipynb_checkpoints' not in file_path:\n",
    "        print(file_path)\n",
    "            "
   ]
  },
  {
   "cell_type": "code",
   "execution_count": 2,
   "id": "54d2f147-257d-4324-bff5-441ecf3044d0",
   "metadata": {},
   "outputs": [],
   "source": [
    "##langchain ######################\n",
    "from langchain.document_loaders import TextLoader, PyPDFLoader\n",
    "from langchain.text_splitter import RecursiveCharacterTextSplitter\n",
    "##################################\n",
    "\n",
    "file_path = \"./data/sample_text_01.txt\"\n",
    "chunk_size = 500\n",
    "chunk_overlap = 30\n",
    "\n",
    "loader = TextLoader(file_path=file_path) # text 파일을 로딩함.\n",
    "\n",
    "#separators = [\"\\n\\n\", \"\\n\", \" \", \"\", \"..PAGE:\"]\n",
    "separators = [\"..PAGE:\", \"\\n\\n\", \"\\n\"]\n",
    "text_splitter = RecursiveCharacterTextSplitter(separators=separators,\n",
    "                                               chunk_size=chunk_size, \n",
    "                                               chunk_overlap=chunk_overlap)\n",
    "\n",
    "split_docs = loader.load_and_split(text_splitter=text_splitter)"
   ]
  },
  {
   "cell_type": "code",
   "execution_count": 3,
   "id": "81ffd351-e09a-4f5b-8f88-b953b4f229fd",
   "metadata": {},
   "outputs": [],
   "source": [
    "import re\n",
    "\n",
    "# split 문서를 docs 리스트에 담음.\n",
    "docs:list=[]\n",
    "# 정규 표현식 패턴 정의\n",
    "# ..PAGE:숫자 패턴과 숫자.숫자 패턴 정의\n",
    "patterns = [r\"\\.\\.PAGE:\\d+\", r\"\\d+\\.\\d+\"]\n",
    "    \n",
    "for i in range(len(split_docs)):\n",
    "    # 전처리 수행 => pattern이 ..PAGE:1 제거\n",
    "    # 모든 패턴을 찾아 제거\n",
    "    page_content = split_docs[i].page_content\n",
    "    for pattern in patterns:\n",
    "        page_content = re.sub(pattern, \"\", page_content)\n",
    "    \n",
    "    if len(page_content) > 10:\n",
    "        docs.append(page_content)"
   ]
  },
  {
   "cell_type": "code",
   "execution_count": 4,
   "id": "700d808a-9c40-4cc0-a23a-95045692fb1a",
   "metadata": {},
   "outputs": [
    {
     "data": {
      "text/plain": [
       "['\\n휴온스글로벌\\n기능비교 자료\\n2024. 04. 03\\n\\n1. 사업 개요\\n1. 사업 개요\\n고객사\\n사업명\\n사용자수\\n구축기간\\n휴온스글로벌\\n문서중앙화 구축\\n1000User\\n계약후 4개월\\n구축 개요\\n- 기존 보안파일서버 고도화 \\n적용 솔루션\\n\\n시스템 구성도(3000User)\\n2. 시스템 구성방안\\n2. 시스템 구성방안\\n. 시스템 구성도\\n내부망\\nL2스위치 \\n1G 이상\\nA\\nS\\nDB 서버 2식\\nHeartbeat\\n분산파일시스템\\nA\\nA\\nL4스위치\\nSAN 스위치\\nSAN\\nDB 서버 1식\\n네트웍드라이브 속도 이슈 \\n발생시 DB서버 병렬확장가능 \\nNAS or 분산파일시스템\\n향후 데이터 저장소 증설 및 2차 백업을 \\n고려하여 분산파일시스템 추천\\nHeartbeat\\nA\\nS\\nF/W\\nInternet\\n인터넷망\\nDMZ \\nF/W\\nMDS\\nDS\\nMpower G/W\\n중계서버\\n(기존제품활용)\\nA\\nA\\n예시',\n",
       " '\\n2. 시스템 구성방안\\n2. 시스템 구성방안\\n. 조견표\\nHIDM 에서 I-HUB에 BR담당도 넘기는지 확인 필요?\\n프로세스 LV1\\n프로세스 LV2\\n프로세스 LV3\\n시스템 구분\\n설명\\n필요기능\\n구현가능여부(O/△/X)\\nDS WORK - 문서중앙화 연계\\nDS WORK 업무그룹방 정보수신 및 폴더 구성\\nDSWORK에서 정한 권한/공개 범위 수신\\nDSWORK\\n문서중앙화\\no 업무그룹방명과 동일하게 폴더명을 정의한다.\\no 업무그룹방의 공개수준을 참고해 폴더권한범위를 정의한다. (가안 : 전사공개/부서공개/미공개 등 )\\n폴더/권한 정보 동기화\\nO\\n폴더에 대한 사용자 접근권한 정의\\nDSWORK 업무그룹방에 속한 사용자정보 수신\\nDSWORK\\n문서중앙화\\no 같은 업무그룹방에 있으면 권한을 일괄 부여\\no 프로젝트 외 멤버는 문서중앙화에서 수정권한이 없다.\\no 동일 업무그룹 내 사용자별 파일 접근수준 정의 방안 필요\\n개설자/관리자 조직정보가 바뀌어도 업무그룹방-파일 정보 보존 필요',\n",
       " '- 조직정보 테이블 /업무그룹정보 테이블 구분해 조직정보가 바뀌어도 업무그룹방-파일 정보 보존 필요\\nO\\n파일 저장/생성\\nDSWORK 에서 공유한 파일을 저장\\nDSWORK\\n문서중앙화\\no DSWORK 업무그룹방에 업로드 된 파일을 문서중앙화 서버에 저장(생성)한다.\\n- 로컬PC에서 업로드하는 파일 → 문서중앙화 서버에 자동 저장\\n파일 정보 동기화\\nO\\u3000\\n파일 수정/편집\\nDSWORK 에서 저장된 문서를 호출\\nDSWORK\\n문서중앙화\\no DSWORK 업무그룹방에 올라간 파일(문서중앙화에 저장된 파일)을 수정/편집 시 [편집문서] 버튼을 눌러 실제 저장 위치(문서중앙화)에서 구동(엑셀/PPT등 프로그램)해 수정/편집-저장이 이뤄져야 한다.\\n- DSWORK에 연결된 화면에서는 최종 파일 버전으로 갱신되어 열람되어야 한다.\\n- 사용자가 참여한 업무그룹방 및 공유받은 폴더 내의 파일은 직접편집 가능해야 한다. (그 외는 읽기전용)',\n",
       " '- 다른 사용자가 편집을 하고 있을 경우, 다른사람이 편집중인 것을 확인가능해야 한다.\\no DSWORK에서 문서중앙화로 연결\\no 문서중앙화 최종파일 상태로 DSWORK에서 열람되어야 함\\n△\\n파일 공유(동일 업무그룹)\\nDSWORK에서 공유하기 기능으로 정보를 수신해 연계/저장/공유\\nDSWORK\\n문서중앙화\\no 원본 보내기 / URL기능으로 구분하여 사용자가 선택적으로 보낸다.\\n- 원본 : 기존 동일한 파일이 있는 경우 알람 필요 \\n- URL : 마지막 버전으로 읽기전용\\n(URL로 파일 공유를 하고 난 후 파일 수정(업데이트) 시 동일 URL로 갱신되어야 한다. )\\n원본 보내기 / URL보내기\\n- URL은 마지막 버전으로 열람\\nO\\n파일 공유(다른 업무그룹)\\nDSWORK에서 공유하기 기능으로 정보를 수신해 연계/저장/공유\\nDSWORK\\n문서중앙화\\no 원본 보내기 / URL기능으로 구분하여 사용자가 선택적으로 보낸다.',\n",
       " '- 원본 : 다른 업무그룹방 폴더 내 파일이 만들어지며 파일의 권한수준이 해당 업무그룹방 수준에 귀속(편집가능)\\n- URL : 다른 업무그룹방으로 보내 해당 인원들이 마지막 버전 기준 읽기전용으로만 열람하고 편집할 수 없다.\\n(URL로 파일 공유를 하고 난 후 파일 수정(업데이트) 시 동일 URL로 갱신되어야 한다. )\\n원본 보내기 / URL보내기\\n- URL은 마지막 버전으로 열람\\nO\\n파일 공유(외부반출)\\nDSWORK에서 반출하기 기능으로 반출\\nDSWORK\\n문서중앙화\\no 업무그룹방에서 관리되는 사외/계열사 로 반출이 필요한 경우 DRM프로그램이 연계 구동되어 첨부된다.\\n(계열사반출/내용 등은 기존과 동일 / 최종 승인 시 로컬PC로 저장되어 사용자가 메일/메신저 등으로 발송한다.)\\nDSWORK에서 \"외부반출\" 기능 구현\\n문서중앙화-DRM과 연계\\nO(CHECK)\\n파일 공유(시스템)\\nDSWORK에서 시스템URL 생성 / 관리\\nDSWORK\\n문서중앙화',\n",
       " 'DSWORK\\n문서중앙화\\no DSWORK에서 파일을 선택해 시스템 URL생성하여 다른 시스템에 paste할 수 있는 기능 필요하다.\\no 업무 편의 및 주변 Legacy시스템의 파일 관리 용이 목적 시스템용 URL 기능 필요하다.\\no 단, 그룹웨어, SAP 등 URL 업로드 되어 연계되는 경우 원본 파일이 손상되면 안된다.\\nDSWORK-문서중앙화 기능 연동\\nO\\n파일 검색\\nDSWORK에서 문서중앙화 파일 검색\\nDSWORK\\n문서중앙화\\no 대내비(인사정보/연구자료 등 전사적 열람 불가건, 폴더 단위 잠금)를 제외한 전사 정보를 조회해 활용한다. \\n가안) - 공개문서(공유함)의 경우 목록 열람 및 편집 가능 \\n- 비공개 문서(부서/업무공유함)인 경우 목록만 열람 / 편집 불가\\n- 대내비 문서인 경우 목록열람 불가 / 편집 불가\\n파일 목록 동기화\\n폴더별 권한 관리\\nX\\n파일 삭제\\nDSWORK에서 파일 삭제가 권한수준에 따라 통제\\nDSWORK\\n문서중앙화',\n",
       " 'DSWORK\\n문서중앙화\\no 소유자 및 원본 공유받은 자만 할 수 있어야 한다.\\n파일 작성자 정보\\n버전/권한 관리\\nO\\n모바일\\nDSWORK 모바일 버전에 파일 관리\\nDSWORK\\n문서중앙화\\no DSWORK 모바일 버전에 업로드된 파일/이미지가 문서중앙화 서버에 업로드되어야 한다.\\nㅇDSWORK에서 파일을 기본적으로 읽기전용으로 열리고, 권한이 있는 사용자에 한해 편집 가능해야 한다.\\nDSWORK-문서중앙화 기능 연동\\nO\\n예시',\n",
       " '\\n2. 시스템 구성방안\\n2. 시스템 구성방안\\n. 조견표\\n회사명\\n모코엠시스\\n사이버다임\\n제품명\\nEZis-C\\nClouDium\\n분류\\n구분\\n설명\\n구현여부\\n(O,X,△)\\n구현여부\\n(O,X,△)\\n인증\\nGS인증 1등급\\n중앙부처 및 공공기관 필수\\n○\\n\\u3000\\n국정원 검증필 암호 모듈\\n중앙부처 및 공공기관 필수\\n○\\n\\u3000\\n자료 이관\\nPC 자료 강제 이관 기능\\nPC의 개인 문서를 모두 중앙으로 강제 이관할 수 있도록 지원\\n○\\n\\u3000\\n자료 이관 정책 지원\\n자료 이관시 로컬 보안 영역 또는 원격서버로 이관 등 다양한 방식 지원\\n○\\n\\u3000\\n로컬저장금지\\n프로그램별/확장자별 제어\\n로컬 저장 통제시 애플리케이션이나 파일 확장자에 의한 허용/거부 설정 기능\\n○\\n\\u3000\\n예외 폴더 지정\\n로컬 저장을 예외적으로 허용할 수 있는 폴더 지정 기능\\n○\\n\\u3000\\n프로세스명 위변조 방지\\n등록된 프로세스에 대한 위/변조시 감지 기능\\n○\\n\\u3000\\n확장자 위변조 차단\\n사용자에 의한 파일 확장자 변경 차단 기능\\n○\\n\\u3000\\n유출 차단\\n외부 매체 제어',\n",
       " '○\\n\\u3000\\n유출 차단\\n외부 매체 제어\\n다양한 외부 저장매체에 대한 파일 저장 차단\\n○\\n\\u3000\\n프린터 제어\\n전체/그룹별/사용자별로 프린터 출력에 대한 제어(허용/금지) 기능 \\n○\\n\\u3000\\n워터마킹\\n전체/그룹별/사용자별로 워터마킹 출력에 대한 제어(허용/금지) 기능 제공\\n○\\n\\u3000\\n클립보드 제어\\n비 보안 관리 대상 프로그램으로 클립보드 전송 차단\\n○\\n\\u3000\\n화면 캡쳐 제어\\n보안 관리 대상 프로그램의 내용이 화면 캡쳐를 통해 유출되지 않도록 화면 캡쳐 차단\\n○\\n\\u3000\\n온라인 유출 차단\\n웹브라우져의 파일 첨부시 특정 사이트에 대해서만 파일 첨부 차단/허용\\n○',\n",
       " '\\n2. 시스템 구성방안\\n2. 시스템 구성방안\\n. 조견표\\n회사명\\n모코엠시스\\n사이버다임\\n제품명\\nEZis-C\\nClouDium\\n분류\\n구분\\n설명\\n구현여부\\n(O,X,△)\\n구현여부\\n(O,X,△)\\n문서 관리\\n협업 기능\\n전체 공유, 그룹 공유, 개인공유, 프로젝트 등 협업 제공 \\n○\\n\\u3000\\n폴더별 권한 관리\\n폴더별로 접근 제어 설정\\n○\\n\\u3000\\n버전 기능\\n파일의 변경 이력 지원\\n○\\n\\u3000\\n잠금 기능\\n다른 사람이 파일의 내용을 수정하지 못하도록 파일을 잠금/해제하는 기능\\n○\\n\\u3000\\n대용량 파일 링크 기능\\n대용량 파일(4G이상 지원)에 대해 파일의 URL을 이용하여 웹상에 편리하게 게시할 수 있는 기능\\n○\\n\\u3000\\n업무 기능\\n윈도우 탐색기 통합\\n로컬 네트워크 작업용으로 네트워크 드라이브 형태로 윈도우 탐색기에 통합된 UI 제공\\n○\\n\\u3000\\n윈도우 기본 프로그램 지원\\n윈도우에서 제공하는 아래의 기본 앱(연결 프로그램)에 대한 사용 지원\\n○\\n\\u3000\\n네트워크드라이브를 통한 파일 스트리밍 지원',\n",
       " '○\\n\\u3000\\n네트워크드라이브를 통한 파일 스트리밍 지원\\n네트워크 드라이브를 이용하여 동영상 스트리밍 기능 지원\\n○\\n\\u3000\\n엑셀 참조 기능\\n네트워크 드라이브에서 엑셀 참조 문서 기능 지원\\n○\\n\\u3000\\n오피스 문서등에서 OLE 참조 기능\\n네트워크 드라이브에서 오피스나 아래 한글 등의 OLE 참조 기능 지원\\n○\\n\\u3000\\n자체 탐색기 제공\\n원거리 네트워크 작업용으로 전용 프로그램을 통해 직접 편집 기능 제공\\n○\\n\\u3000\\n반출 기능\\n결재를 통한 반출 기능 제공\\n○\\n\\u3000\\n다중 작업 지원\\n업로드 도중에도 다운로드 등의 다른 작업이 가능하며 여러 개의 파일을 동시에 실행할 수 있는 다중 작업 기능\\n○\\n\\u3000\\nDRM 호환성 지원\\nDRM 파일에 대한 지원(DRM 파일 아이콘 표시, 저장 등)\\n○\\n\\u3000\\n겸직 기능\\n겸직하는 부서의 모든 저장소에 대해 조회 및 접근 제공\\n○\\n\\u3000\\n출장 지원\\n오프라인 모드를 이용하여 외부 출장시 안전하게 사용할 수 있도록 지원\\n○',\n",
       " '\\n2. 시스템 구성방안\\n2. 시스템 구성방안\\n. 조견표\\n회사명\\n모코엠시스\\n사이버다임\\n제품명\\nEZis-C\\nClouDium\\n분류\\n구분\\n설명\\n구현여부\\n(O,X,△)\\n구현여부\\n(O,X,△)\\n안정성\\n편집시 자료의 안정성\\n버전 지원, 로컬보안드라이브 등 안전 기능 제공\\n○\\n\\u3000\\nLAN/WAN 환경에서\\n작업 성능 보장 \\nLAN 환경은 네트워크 드라이브 형태로 WAN 환경에서는 네트워크 대역폭이 작은 별도의 에이젼트 제공\\n○\\n\\u3000\\n복사/이동시 부하 최소화\\n서버내 폴더/파일의 복사/이동시 로컬 PC를 경유하지 않고 서버내에서 처리하여 네트워크 사용 최소화. \\n○\\n\\u3000\\n네트워크 장애 지원\\n서버 장애시에도 로컬 보안드라이브에 암호화하여 저장함으로써 사용자의 작업에 영향이 없도록 지원\\n○\\n\\u3000\\n즉시저장\\n-엑셀등 편집기 실행시 저장버튼을 눌러도 바로 파일서버에 저장되지 않고 해당 어플리케이션을 종료 해야만 저장이됨',\n",
       " \"-업무혼선(저장을 했지만 저장이 안됨) 및 컴퓨터 리셋이나 PC(VDI) 먹통시 잦은 자료 유실 발생\\n○\\nX\\n커스텀다이얼로그 저장차단\\n문서중앙화 제어시 편집기 중에서 파일 열기/저장 다이얼로그가 '커스텀다이얼 로그'일 경우(에디트플러스 등) 로컬에 저장됨 => 보안 위배\\n개발자가 코딩을 하거나, 인터넷에서 새로 개발된 윈도우탐색기를 사용할 경우 중앙의 문서를 로컬로 다운로드 받아 유출이 가능합니다\\n○\\nX\\n사용자 로깅\\n사용자의 파일 열람 로깅\\n윈도우 탐색기에서 단순 액세스한 로그(폴더 보기, 미리보기 등)가 아니라 사용자가 직접 사용한 파일 로그 지원\\n○\\n\\u3000\\n프린트 로깅\\n사용자별 프린트 내역 제공\\n○\\n\\u3000\\n보안 위배 로깅\\n보안 정책에 위배되는 행위에 대한 로그 제공\\n○\\n\\u3000\\n기타\\n중복파일 제거\\n서버에 저장된 동일 문서에 대한 중복 파일 제거\\n○\\n\\u3000\\n본문 검색 + 다양한검색 조건\\n1)자체 2) 3'rd 파트 제품 연동\\n○\\n\\u3000\\n개인정보검출 지원\\n1)자체 2) 3'rd 파트 제품 연동\\n○\",\n",
       " \"1)자체 2) 3'rd 파트 제품 연동\\n○\\n\\u3000\\n커스터마이징 지원\\n구축시 제품에 대한 커스터마이징 지원 여부/방식\\n○\",\n",
       " '\\n2. 시스템 구성방안\\n2. 시스템 구성방안\\n. 구축방안\\n프로세스 LV1\\n프로세스 LV2\\n프로세스 LV3\\n시스템 구분\\n설명\\n필요기능\\n구현가능여부(O/△/X)\\nDS WORK - 문서중앙화 연계\\n파일 수정/편집\\nDSWORK 에서 저장된 문서를 호출\\nDSWORK\\n문서중앙화\\no DSWORK 업무그룹방에 올라간 파일(문서중앙화에 저장된 파일)을 수정/편집 시 [편집문서] 버튼을 눌러 실제 저장 위치(문서중앙화)에서 구동(엑셀/PPT등 프로그램)해 수정/편집-저장이 이뤄져야 한다.\\n- DSWORK에 연결된 화면에서는 최종 파일 버전으로 갱신되어 열람되어야 한다.\\n- 사용자가 참여한 업무그룹방 및 공유받은 폴더 내의 파일은 직접편집 가능해야 한다. (그 외는 읽기전용)\\n- 다른 사용자가 편집을 하고 있을 경우, 다른사람이 편집중인 것을 확인가능해야 한다.\\no DSWORK에서 문서중앙화로 연결\\no 문서중앙화 최종파일 상태로 DSWORK에서 열람되어야 함\\n△',\n",
       " '△\\n직접 편집시 문서는 자동 잠금 처리되어, 다른 사용자는 해당 문서를 변경할 수 없고, 읽기 전용으로 열람만 가능\\n잠금 처리된 문서에 잠금 아이콘과 잠금 사용자 표시\\n잠금 처리 없이 문서를 열람하고 싶은 경우 컨텍스트 메뉴의 파일 열기(읽기 전용)로 문서를 잠금 없이 열람만 지원 \\n사용자B\\n사용자 A\\n문서중앙화 시스템\\n파일 열기/편집/닫기\\n파일 편집 불가\\nDSWORK에서 문서중앙화로 연결 : 가능\\nDSWORK에 연결된 화면에서는 최종 파일 버전으로 갱신되어 열람되어야 한다. : 최종 파일 링크 전달 확인 필요\\n예시',\n",
       " '\\n감사합니다.\\n서울시 마포구 상암산로 76 YTN 뉴스퀘어 14층\\n㈜모코엠시스 보안사업부 \\n김동욱 부장\\nTel : .\\nFax : .']"
      ]
     },
     "execution_count": 4,
     "metadata": {},
     "output_type": "execute_result"
    }
   ],
   "source": [
    "docs"
   ]
  },
  {
   "cell_type": "code",
   "execution_count": null,
   "id": "2507a0f9-dfda-4b1d-ba20-a8e6e0029afe",
   "metadata": {},
   "outputs": [],
   "source": [
    "split_docs"
   ]
  },
  {
   "cell_type": "code",
   "execution_count": null,
   "id": "b73e0dbe-5d51-41b4-93ce-92a6668dedd7",
   "metadata": {},
   "outputs": [],
   "source": [
    "\n",
    "split_docs[1].page_content"
   ]
  },
  {
   "cell_type": "code",
   "execution_count": null,
   "id": "849989c4-8e6d-4718-81fa-d51d91132295",
   "metadata": {},
   "outputs": [],
   "source": [
    "import re\n",
    "\n",
    "def remove_page_pattern(text):\n",
    "    # 정규 표현식 패턴 정의\n",
    "    pattern = r\"\\.\\.PAGE:\\d+\"\n",
    "    \n",
    "    # 패턴을 찾아 제거\n",
    "    cleaned_text = re.sub(pattern, \"\", text)\n",
    "    \n",
    "    return cleaned_text\n",
    "\n",
    "# 예시 텍스트\n",
    "example_text = \"..PAGE:1..PAGE:2\"\n",
    "\n",
    "# 함수 호출\n",
    "cleaned_text = remove_page_pattern(example_text)\n",
    "print(len(cleaned_text))\n",
    "print(cleaned_text)\n"
   ]
  },
  {
   "cell_type": "code",
   "execution_count": null,
   "id": "5ba7eda4-1f0b-48dc-863b-9099f6f00e42",
   "metadata": {},
   "outputs": [],
   "source": []
  }
 ],
 "metadata": {
  "kernelspec": {
   "display_name": "Python 3 (ipykernel)",
   "language": "python",
   "name": "python3"
  },
  "language_info": {
   "codemirror_mode": {
    "name": "ipython",
    "version": 3
   },
   "file_extension": ".py",
   "mimetype": "text/x-python",
   "name": "python",
   "nbconvert_exporter": "python",
   "pygments_lexer": "ipython3",
   "version": "3.9.7"
  }
 },
 "nbformat": 4,
 "nbformat_minor": 5
}
