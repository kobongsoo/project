{
 "cells": [
  {
   "cell_type": "code",
   "execution_count": 1,
   "id": "bcacccad-f163-4e1b-a088-d2f23b9d71a8",
   "metadata": {},
   "outputs": [
    {
     "name": "stderr",
     "output_type": "stream",
     "text": [
      "100%|██████████| 112/112 [00:47<00:00,  2.36it/s]\n"
     ]
    }
   ],
   "source": [
    "#------------------------------------------------------------------------------------------\n",
    "# 원본파일에서 text 추출해서 파일로 저장\n",
    "# => 추출할 원본 파일 경로 폴더를 지정하면 해당 폴더에서 파일을 읽어와서 \n",
    "# text 추출후 파일로 저장함.\n",
    "#------------------------------------------------------------------------------------------\n",
    "import os\n",
    "import time\n",
    "import numpy as np\n",
    "import sys\n",
    "import json\n",
    "from tqdm import tqdm \n",
    "import numpy as np\n",
    "import pandas as pd\n",
    "from utils import MyUtils\n",
    "\n",
    "#-----------------------------------------------\n",
    "# Mpower Synap 추가\n",
    "from os import sys\n",
    "sys.path.append('../../MpowerAI')\n",
    "from pympower.classes.mshaai import MShaAI\n",
    "\n",
    "shaai = MShaAI()\n",
    "#-----------------------------------------------\n",
    "myutils = MyUtils(yam_file_path='./data/test_settings.yaml')\n",
    "\n",
    "file_folder = \"../../data11/doc_3_new/\"# text 추출할 원본파일 경로 지정\n",
    "files:list = []\n",
    "len_list = []\n",
    "\n",
    "filepaths = myutils.getListOfFiles(file_folder) # 폴더에 파일 path 얻어옴.\n",
    "\n",
    "for filePath in tqdm(filepaths):\n",
    "    srcFilePath = filePath\n",
    "    tgtFilePath = srcFilePath.replace('/doc_3_new/', '/doc_3_new_extra/') # test 폴더를 test-extra로 만듬\n",
    "    \n",
    "    # text 추출 함.\n",
    "    shaai.extract(srcPath=srcFilePath, tgtPath=tgtFilePath)"
   ]
  },
  {
   "cell_type": "code",
   "execution_count": null,
   "id": "b6473d13-0785-480a-9ac8-48a106632e34",
   "metadata": {},
   "outputs": [],
   "source": [
    "#------------------------------------------------------------------------------------------\n",
    "# text추출원본파일명 rename 처리\n",
    "# => 원본파일명을 유니크한 이름으로 만들기 위해 맨 앞에 순서대로 숫자(01_)를 붙여줌.\n",
    "#------------------------------------------------------------------------------------------\n",
    "\n",
    "import os\n",
    "import re\n",
    "from tqdm import tqdm \n",
    "gcounter:int = 0\n",
    "\n",
    "# 원본파일명 앞에 숫자를 붙여서 rename 시킴 \n",
    "def rename_files_with_numbers(directory):\n",
    "    global gcounter  # 전역 변수를 사용하겠다고 선언\n",
    "    print(f'*directory:{directory}')\n",
    "    print(f'*gcount:{gcounter}')\n",
    "    \n",
    "    # create a list of file and sub directories \n",
    "    listOfFile = os.listdir(directory)\n",
    "    allFiles = list()\n",
    "    # Iterate over all the entries\n",
    "    for filename in tqdm(listOfFile):\n",
    "        # Create full path\n",
    "        fullPath = os.path.join(directory, filename)\n",
    "\n",
    "        if os.path.isdir(fullPath):\n",
    "            rename_files_with_numbers(fullPath)\n",
    "        else:\n",
    "            if '.ipynb_checkpoints' not in fullPath:\n",
    "                # 새 파일명 생성\n",
    "                new_filename = f\"{gcounter+1:02d}_{filename}\"\n",
    "                # 정규 표현식을 사용하여 숫자와 밑줄을 제거\n",
    "                #new_filename = re.sub(r'^\\d{3}_', '', filename)\n",
    "                # 새 파일 경로 생성\n",
    "                new_path = os.path.join(directory, new_filename)\n",
    "\n",
    "                # 파일명 변경\n",
    "                os.rename(fullPath, new_path)\n",
    "                gcounter += 1\n",
    "                allFiles.append(new_path)\n",
    "                \n",
    "\n",
    "# 예시 디렉토리 경로\n",
    "directory_path = \"../../data11/test-extra\"\n",
    "\n",
    "# 함수 호출\n",
    "rename_files_with_numbers(directory_path)"
   ]
  },
  {
   "cell_type": "code",
   "execution_count": null,
   "id": "8610722e-73b6-47c7-a054-b9a755b6f6e9",
   "metadata": {},
   "outputs": [],
   "source": []
  }
 ],
 "metadata": {
  "kernelspec": {
   "display_name": "Python 3 (ipykernel)",
   "language": "python",
   "name": "python3"
  },
  "language_info": {
   "codemirror_mode": {
    "name": "ipython",
    "version": 3
   },
   "file_extension": ".py",
   "mimetype": "text/x-python",
   "name": "python",
   "nbconvert_exporter": "python",
   "pygments_lexer": "ipython3",
   "version": "3.9.7"
  }
 },
 "nbformat": 4,
 "nbformat_minor": 5
}
