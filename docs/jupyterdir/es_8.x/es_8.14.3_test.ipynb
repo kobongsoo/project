{
 "cells": [
  {
   "cell_type": "code",
   "execution_count": 1,
   "id": "3bba0383-8dae-4fc8-8b43-943eaaf01e42",
   "metadata": {},
   "outputs": [
    {
     "name": "stderr",
     "output_type": "stream",
     "text": [
      "/usr/local/lib/python3.10/dist-packages/elasticsearch/_sync/client/__init__.py:399: SecurityWarning: Connecting to 'https://192.168.0.130:9201' using TLS with verify_certs=False is insecure\n",
      "  _transport = transport_class(\n",
      "/usr/local/lib/python3.10/dist-packages/urllib3/connectionpool.py:1061: InsecureRequestWarning: Unverified HTTPS request is being made to host '192.168.0.130'. Adding certificate verification is strongly advised. See: https://urllib3.readthedocs.io/en/1.26.x/advanced-usage.html#ssl-warnings\n",
      "  warnings.warn(\n",
      "/usr/local/lib/python3.10/dist-packages/urllib3/connectionpool.py:1061: InsecureRequestWarning: Unverified HTTPS request is being made to host '192.168.0.130'. Adding certificate verification is strongly advised. See: https://urllib3.readthedocs.io/en/1.26.x/advanced-usage.html#ssl-warnings\n",
      "  warnings.warn(\n"
     ]
    },
    {
     "name": "stdout",
     "output_type": "stream",
     "text": [
      "*[create_index] self.es.indices.delete\n",
      "*[create_index] self.es.indices.create\n",
      "*ES정보: <es.main.My_ElasticSearch object at 0x7fa4227d47c0>\n"
     ]
    }
   ],
   "source": [
    "############################################################################\n",
    "# 엘라스틱서치 8.x.x 버전일때 테스트 예시.\n",
    "#\n",
    "#===========================================================================\n",
    "# [api_key 생성 방법]\n",
    "# 출처 : https://www.elastic.co/guide/en/elasticsearch/client/python-api/current/getting-started-python.html\n",
    "# => kibana 접속 : localhost:5601->메뉴에서 Search>elasticsearch 클릭\n",
    "# ->화면중간에 API KEY 생성 클릭> 이후 Name 입력하고, Contol security privileges(보안접근권한) 설정후 [Create API Key] 입력\n",
    "# => python 코드에서는 api_key 인자로 encoded 값을 입력해야 함.\n",
    "#{\n",
    "#  \"id\": \"1Rtxxxxxxxxxxxxxxxxx\",\n",
    "#  \"name\": \"apikey\",\n",
    "#  \"api_key\": \"3Pfxxxxxxxxxxxxxx\",\n",
    "#  \"encoded\": \"xxxxxxxxxxxxxxxxxxxxxxxxxxxxxxxxxxxxxxxxxxxxxxxxxxxxxxxxxxx===\",\n",
    "#  \"beats_logstash_format\": \"1Rtoxxxxxxxxxxxxxxxxx\"\n",
    "#}\n",
    "\n",
    "# scikit-extra 설치\n",
    "# !pip install scikit-learn-extra\n",
    "\n",
    "# elasticsearch 버전 보기 \n",
    "# !pip show elasticsearch\n",
    "\n",
    "# pip로 elasticsearch 8.14.3으로 업데이트 \n",
    "# !pip install --upgrade elasticsearch\n",
    "############################################################################\n",
    "import torch\n",
    "import time\n",
    "import os\n",
    "import numpy as np\n",
    "import sys\n",
    "\n",
    "sys.path.append('../')\n",
    "from utils import MyUtils\n",
    "from es import My_ElasticSearch\n",
    "\n",
    "# settings.yaml 설정값 불러옴.\n",
    "myutils = MyUtils(yam_file_path='../data/es_settings.yaml')\n",
    "settings = myutils.get_options()\n",
    "\n",
    "# elastic search 설정\n",
    "es_url=settings['ES_URL']\n",
    "es_index_name=settings['ES_INDEX_NAME']\n",
    "es_index_file_path=settings['ES_INDEX_FILE_PATH']\n",
    "es_api_key=settings['ES_API_KEY']\n",
    "myes = My_ElasticSearch(es_url=es_url, index_name=es_index_name, index_file_path=es_index_file_path, api_key=es_api_key, create=True)\n",
    "print(f'*ES정보: {myes}')"
   ]
  },
  {
   "cell_type": "code",
   "execution_count": 2,
   "id": "6ec73e0a-973a-45ee-abe2-517b7beed2a3",
   "metadata": {},
   "outputs": [
    {
     "name": "stdout",
     "output_type": "stream",
     "text": [
      "*doc:{'rfile_name': '제주도', 'rfile_text': '제주도는 대한민국이 남쪽에 있는 섬이다.'}, <class 'dict'>\n",
      "rs:{'_index': 'docs_kpf-sbert-128d-10-1-keword', '_id': 'dLE7IZEBUfYHPRM4Vjiy', '_version': 1, 'result': 'created', '_shards': {'total': 2, 'successful': 1, 'failed': 0}, '_seq_no': 0, '_primary_term': 1}\n"
     ]
    },
    {
     "name": "stderr",
     "output_type": "stream",
     "text": [
      "/usr/local/lib/python3.10/dist-packages/urllib3/connectionpool.py:1061: InsecureRequestWarning: Unverified HTTPS request is being made to host '192.168.0.130'. Adding certificate verification is strongly advised. See: https://urllib3.readthedocs.io/en/1.26.x/advanced-usage.html#ssl-warnings\n",
      "  warnings.warn(\n"
     ]
    }
   ],
   "source": [
    "# 인덱스에 데이터 추가\n",
    "doc1 = {'rfile_name':'제주도', 'rfile_text':'제주도는 대한민국이 남쪽에 있는 섬이다.'}\n",
    "\n",
    "res=myes.insert(doc=doc1)\n",
    "print(f'rs:{res}')"
   ]
  },
  {
   "cell_type": "code",
   "execution_count": 3,
   "id": "eef5958e-0a64-4832-8b8b-31b418b6e072",
   "metadata": {},
   "outputs": [
    {
     "name": "stdout",
     "output_type": "stream",
     "text": [
      "*op_data:{'index': {'_index': 'docs_kpf-sbert-128d-10-1-keword'}}\n",
      "*docs:[{'index': {'_index': 'docs_kpf-sbert-128d-10-1-keword'}}, {'rfile_name': '한라산', 'rfile_text': '한라산은 제주도에 있는 휴화산이다.'}, {'index': {'_index': 'docs_kpf-sbert-128d-10-1-keword'}}, {'rfile_name': '서귀포', 'rfile_text': '대한민국 제주도 최남단에 있는 도시이다.'}, {'index': {'_index': 'docs_kpf-sbert-128d-10-1-keword'}}, {'rfile_name': '제주시', 'rfile_text': '제주도의 행정/경제 중심 도시이다.'}, {'index': {'_index': 'docs_kpf-sbert-128d-10-1-keword'}}, {'rfile_name': '성산읍', 'rfile_text': '제주도 동쪽에 있는 읍으로, 성산일출봉과 제2공항 후보지로 유명하다.'}]\n",
      "rs:{'errors': False, 'took': 7, 'items': [{'index': {'_index': 'docs_kpf-sbert-128d-10-1-keword', '_id': 'dbE7IZEBUfYHPRM4Yjid', '_version': 1, 'result': 'created', '_shards': {'total': 2, 'successful': 1, 'failed': 0}, '_seq_no': 1, '_primary_term': 1, 'status': 201}}, {'index': {'_index': 'docs_kpf-sbert-128d-10-1-keword', '_id': 'drE7IZEBUfYHPRM4Yjid', '_version': 1, 'result': 'created', '_shards': {'total': 2, 'successful': 1, 'failed': 0}, '_seq_no': 2, '_primary_term': 1, 'status': 201}}, {'index': {'_index': 'docs_kpf-sbert-128d-10-1-keword', '_id': 'd7E7IZEBUfYHPRM4Yjid', '_version': 1, 'result': 'created', '_shards': {'total': 2, 'successful': 1, 'failed': 0}, '_seq_no': 3, '_primary_term': 1, 'status': 201}}, {'index': {'_index': 'docs_kpf-sbert-128d-10-1-keword', '_id': 'eLE7IZEBUfYHPRM4Yjid', '_version': 1, 'result': 'created', '_shards': {'total': 2, 'successful': 1, 'failed': 0}, '_seq_no': 4, '_primary_term': 1, 'status': 201}}]}\n"
     ]
    },
    {
     "name": "stderr",
     "output_type": "stream",
     "text": [
      "/usr/local/lib/python3.10/dist-packages/urllib3/connectionpool.py:1061: InsecureRequestWarning: Unverified HTTPS request is being made to host '192.168.0.130'. Adding certificate verification is strongly advised. See: https://urllib3.readthedocs.io/en/1.26.x/advanced-usage.html#ssl-warnings\n",
      "  warnings.warn(\n"
     ]
    }
   ],
   "source": [
    "# 한꺼번에 인덱싱\n",
    "es_index_name=settings['ES_INDEX_NAME']\n",
    "op_data = {\"index\": {\"_index\": es_index_name}}\n",
    "print(f\"*op_data:{op_data}\")\n",
    "\n",
    "doc2 = {'rfile_name':'한라산', 'rfile_text':'한라산은 제주도에 있는 휴화산이다.'}\n",
    "doc3 = {'rfile_name':'서귀포', 'rfile_text':'대한민국 제주도 최남단에 있는 도시이다.'}\n",
    "doc4 = {'rfile_name':'제주시', 'rfile_text':'제주도의 행정/경제 중심 도시이다.'}\n",
    "doc5 = {'rfile_name':'성산읍', 'rfile_text':'제주도 동쪽에 있는 읍으로, 성산일출봉과 제2공항 후보지로 유명하다.'}\n",
    "\n",
    "# 출처 : https://www.elastic.co/guide/en/elasticsearch/reference/current/docs-bulk.html 참고\n",
    "docs:list=[]\n",
    "docs.append(op_data)\n",
    "docs.append(doc2)\n",
    "docs.append(op_data)\n",
    "docs.append(doc3)\n",
    "docs.append(op_data)\n",
    "docs.append(doc4)\n",
    "docs.append(op_data)\n",
    "docs.append(doc5)\n",
    "\n",
    "print(f\"*docs:{docs}\")\n",
    "\n",
    "res=myes.RAG_bulk(docs=docs)\n",
    "print(f'rs:{res}')"
   ]
  },
  {
   "cell_type": "code",
   "execution_count": 8,
   "id": "062f3228-21cb-43a1-935d-1eb244fbc0fa",
   "metadata": {},
   "outputs": [
    {
     "name": "stdout",
     "output_type": "stream",
     "text": [
      "rs:[{'rfile_name': '제주시', 'score': 0.19570608}, {'rfile_name': '한라산', 'score': 0.18675612}, {'rfile_name': '제주도', 'score': 0.17858894}]\n"
     ]
    },
    {
     "name": "stderr",
     "output_type": "stream",
     "text": [
      "/usr/local/lib/python3.10/dist-packages/urllib3/connectionpool.py:1061: InsecureRequestWarning: Unverified HTTPS request is being made to host '192.168.0.130'. Adding certificate verification is strongly advised. See: https://urllib3.readthedocs.io/en/1.26.x/advanced-usage.html#ssl-warnings\n",
      "  warnings.warn(\n"
     ]
    }
   ],
   "source": [
    "#데이터 검색\n",
    "query=\"제주도\"\n",
    "min_score=0.1\n",
    "res=myes.BM25_search_docs(query=query, min_score=min_score)\n",
    "print(f'rs:{res}')"
   ]
  },
  {
   "cell_type": "code",
   "execution_count": 6,
   "id": "ca4b8d63-0be1-4170-bf90-ca3d2b317508",
   "metadata": {},
   "outputs": [
    {
     "name": "stdout",
     "output_type": "stream",
     "text": [
      "rs:[{'rfile_name': '제주도', 'score': 1.0}, {'rfile_name': '한라산', 'score': 1.0}, {'rfile_name': '서귀포', 'score': 1.0}, {'rfile_name': '제주시', 'score': 1.0}, {'rfile_name': '성산읍', 'score': 1.0}]\n"
     ]
    },
    {
     "name": "stderr",
     "output_type": "stream",
     "text": [
      "/usr/local/lib/python3.10/dist-packages/urllib3/connectionpool.py:1061: InsecureRequestWarning: Unverified HTTPS request is being made to host '192.168.0.130'. Adding certificate verification is strongly advised. See: https://urllib3.readthedocs.io/en/1.26.x/advanced-usage.html#ssl-warnings\n",
      "  warnings.warn(\n"
     ]
    }
   ],
   "source": [
    "# 모든 데이터 불러옴 \n",
    "script_query = {\"match_all\": {}}\n",
    "res=myes.search_docs(script_query=script_query)\n",
    "print(f'rs:{res}')"
   ]
  },
  {
   "cell_type": "code",
   "execution_count": 13,
   "id": "ca81c84e-9a00-42fa-a154-50e4ba7876d4",
   "metadata": {},
   "outputs": [
    {
     "name": "stdout",
     "output_type": "stream",
     "text": [
      "rs:{'took': 1, 'timed_out': False, '_shards': {'total': 2, 'successful': 2, 'skipped': 0, 'failed': 0}, 'hits': {'total': {'value': 0, 'relation': 'eq'}, 'max_score': None, 'hits': []}}\n"
     ]
    },
    {
     "name": "stderr",
     "output_type": "stream",
     "text": [
      "/usr/local/lib/python3.10/dist-packages/urllib3/connectionpool.py:1061: InsecureRequestWarning: Unverified HTTPS request is being made to host '192.168.0.130'. Adding certificate verification is strongly advised. See: https://urllib3.readthedocs.io/en/1.26.x/advanced-usage.html#ssl-warnings\n",
      "  warnings.warn(\n"
     ]
    }
   ],
   "source": [
    "# 인덱스내 데이터 불러옴\n",
    "data = {'rfile_name': '제주도'}\n",
    "res=myes.search(data=data)\n",
    "print(f'rs:{res}')"
   ]
  },
  {
   "cell_type": "code",
   "execution_count": 10,
   "id": "55a9510b-d58e-4122-a383-f5b1c91e7450",
   "metadata": {},
   "outputs": [
    {
     "name": "stdout",
     "output_type": "stream",
     "text": [
      "rs:{'took': 1, 'timed_out': False, '_shards': {'total': 2, 'successful': 2, 'skipped': 0, 'failed': 0}, 'hits': {'total': {'value': 1, 'relation': 'eq'}, 'max_score': 1.3862942, 'hits': [{'_index': 'docs_kpf-sbert-128d-10-1-keword', '_id': 'dLE7IZEBUfYHPRM4Vjiy', '_score': 1.3862942, '_source': {'rfile_name': '제주도', 'rfile_text': '제주도는 대한민국이 남쪽에 있는 섬이다.'}}]}}\n",
      "\n",
      "\n",
      "id:dLE7IZEBUfYHPRM4Vjiy\n",
      "res:{'_index': 'docs_kpf-sbert-128d-10-1-keword', '_id': 'dLE7IZEBUfYHPRM4Vjiy', '_version': 2, 'result': 'updated', '_shards': {'total': 2, 'successful': 1, 'failed': 0}, '_seq_no': 5, '_primary_term': 1}\n",
      "\n",
      "\n"
     ]
    },
    {
     "name": "stderr",
     "output_type": "stream",
     "text": [
      "/usr/local/lib/python3.10/dist-packages/urllib3/connectionpool.py:1061: InsecureRequestWarning: Unverified HTTPS request is being made to host '192.168.0.130'. Adding certificate verification is strongly advised. See: https://urllib3.readthedocs.io/en/1.26.x/advanced-usage.html#ssl-warnings\n",
      "  warnings.warn(\n",
      "/usr/local/lib/python3.10/dist-packages/urllib3/connectionpool.py:1061: InsecureRequestWarning: Unverified HTTPS request is being made to host '192.168.0.130'. Adding certificate verification is strongly advised. See: https://urllib3.readthedocs.io/en/1.26.x/advanced-usage.html#ssl-warnings\n",
      "  warnings.warn(\n"
     ]
    }
   ],
   "source": [
    "# 인덱스에 데이터 업데이트\n",
    "# =>업데이트할 _id, _type을 알아야함\n",
    "\n",
    "# 쿼리 검색\n",
    "data = {'rfile_name': '제주도'}\n",
    "res=myes.search(data=data)\n",
    "print(f'rs:{res}')\n",
    "print('\\n')\n",
    "\n",
    "id_list = []\n",
    "# 업데이트할 id를 구함\n",
    "for hits in res['hits']['hits']:\n",
    "    id=hits['_id']\n",
    "    #print(f'id:{id}')\n",
    "    \n",
    "    id_list.append(id)\n",
    "    \n",
    "# 업데이트\n",
    "for id in id_list:\n",
    "    \n",
    "    print(f'id:{id}')\n",
    "    doc = {'rfile_text': '제주도는 대한민국에 가장 남쪽에 있는 섬으로, 인구는 약 70만명이며, 화산섬으로 관광자원이 많은 천혜의 관광지 이다.'}\n",
    "    \n",
    "    res=myes.update(doc=doc, esid=id)\n",
    "    print(f'res:{res}')\n",
    "    print('\\n')"
   ]
  },
  {
   "cell_type": "code",
   "execution_count": 12,
   "id": "98e1af8b-3f4a-4118-9dae-0505fdfbe23a",
   "metadata": {},
   "outputs": [
    {
     "name": "stdout",
     "output_type": "stream",
     "text": [
      "rs:{'took': 10, 'timed_out': False, 'total': 1, 'deleted': 1, 'batches': 1, 'version_conflicts': 0, 'noops': 0, 'retries': {'bulk': 0, 'search': 0}, 'throttled_millis': 0, 'requests_per_second': -1.0, 'throttled_until_millis': 0, 'failures': []}\n"
     ]
    },
    {
     "name": "stderr",
     "output_type": "stream",
     "text": [
      "/usr/local/lib/python3.10/dist-packages/urllib3/connectionpool.py:1061: InsecureRequestWarning: Unverified HTTPS request is being made to host '192.168.0.130'. Adding certificate verification is strongly advised. See: https://urllib3.readthedocs.io/en/1.26.x/advanced-usage.html#ssl-warnings\n",
      "  warnings.warn(\n"
     ]
    }
   ],
   "source": [
    "# 인덱스내 데이터 삭제\n",
    "data = {'rfile_name': '제주도'}\n",
    "res=myes.delete(doc=data)\n",
    "print(f'rs:{res}')"
   ]
  },
  {
   "cell_type": "code",
   "execution_count": 14,
   "id": "17cb2242-8e2a-44b6-ae66-ad77b96a58b7",
   "metadata": {},
   "outputs": [
    {
     "name": "stdout",
     "output_type": "stream",
     "text": [
      "rs:{'acknowledged': True}\n"
     ]
    },
    {
     "name": "stderr",
     "output_type": "stream",
     "text": [
      "/usr/local/lib/python3.10/dist-packages/urllib3/connectionpool.py:1061: InsecureRequestWarning: Unverified HTTPS request is being made to host '192.168.0.130'. Adding certificate verification is strongly advised. See: https://urllib3.readthedocs.io/en/1.26.x/advanced-usage.html#ssl-warnings\n",
      "  warnings.warn(\n",
      "/usr/local/lib/python3.10/dist-packages/urllib3/connectionpool.py:1061: InsecureRequestWarning: Unverified HTTPS request is being made to host '192.168.0.130'. Adding certificate verification is strongly advised. See: https://urllib3.readthedocs.io/en/1.26.x/advanced-usage.html#ssl-warnings\n",
      "  warnings.warn(\n"
     ]
    }
   ],
   "source": [
    "# 인덱스 삭제\n",
    "res=myes.delete_index()\n",
    "print(f'rs:{res}')"
   ]
  }
 ],
 "metadata": {
  "kernelspec": {
   "display_name": "Python 3 (ipykernel)",
   "language": "python",
   "name": "python3"
  },
  "language_info": {
   "codemirror_mode": {
    "name": "ipython",
    "version": 3
   },
   "file_extension": ".py",
   "mimetype": "text/x-python",
   "name": "python",
   "nbconvert_exporter": "python",
   "pygments_lexer": "ipython3",
   "version": "3.10.12"
  }
 },
 "nbformat": 4,
 "nbformat_minor": 5
}
