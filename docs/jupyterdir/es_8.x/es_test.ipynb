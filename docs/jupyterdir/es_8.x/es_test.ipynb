{
 "cells": [
  {
   "cell_type": "code",
   "execution_count": null,
   "id": "56a16b56-6ff6-46e7-8c15-31a2f2cc3dee",
   "metadata": {},
   "outputs": [],
   "source": [
    "# elasticsearch 8.14 버전 연동\n",
    "# 출처 : https://www.elastic.co/guide/en/elasticsearch/client/python-api/current/getting-started-python.html\n",
    "\n",
    "!pip install elasticsearch"
   ]
  },
  {
   "cell_type": "code",
   "execution_count": null,
   "id": "89774fa7-83d7-4419-a10e-002776ee5981",
   "metadata": {},
   "outputs": [],
   "source": [
    "from elasticsearch import Elasticsearch\n",
    "\n",
    "# api_key 생성\n",
    "# kibana 접속 : localhost:5601\n",
    "# ->메뉴에서 Search>elasticsearch 클릭\n",
    "# ->화면중간에 API KEY 생성 클릭 \n",
    "# -> 이후 Name 입력하고, Contol security privileges 선택후 [Create API Key] 입력\n",
    "# -> api_key 인자로 encoded 값을 입력해야 함.\n",
    "\n",
    "# \"https://192.168.0.130:9201\"\n",
    "# => api_key : xxxxxxxxxxxxxxxxxxxxxxxxxxxxxxxxxxxxxxxxxxxxxx=========\n",
    "\n",
    "es = Elasticsearch(\n",
    "    \"https://192.168.0.x:9200\",  # Elasticsearch endpoint  => \n",
    "    api_key=\"ZllhM0xxxxxxxxxxxxxxxxxxxxxxxxxxxxxxxx\",   # encoded 값 입력 \n",
    "    verify_certs=False\n",
    ")"
   ]
  },
  {
   "cell_type": "code",
   "execution_count": null,
   "id": "19aa88fa-fdf8-4c68-9d44-1e9d820501ab",
   "metadata": {},
   "outputs": [],
   "source": [
    "# API key should have cluster monitor rights\n",
    "es.info()"
   ]
  },
  {
   "cell_type": "code",
   "execution_count": null,
   "id": "b68b1b97-d326-48a9-8ec6-8ea1b7378b89",
   "metadata": {},
   "outputs": [],
   "source": [
    "es.indices.exists(index=\"my_index\")"
   ]
  },
  {
   "cell_type": "code",
   "execution_count": null,
   "id": "5675e14e-d5f2-4883-ad62-f5eeb4ae127a",
   "metadata": {},
   "outputs": [],
   "source": [
    "es.indices.create(index=\"my_index\")"
   ]
  },
  {
   "cell_type": "code",
   "execution_count": null,
   "id": "8c98e756-55eb-41ec-aafa-c845b3885e00",
   "metadata": {},
   "outputs": [],
   "source": [
    "# bulk에 사용할 데이터 준비\n",
    "actions = [\n",
    "    {\"index\": {\"_index\": \"my_index\"}},\n",
    "    {\"rfile_name\": \"제주도\", \"rfile_text\": \"제주도는 대한민국이 남쪽에 있는 섬이다.\"},\n",
    "    {\"index\": {\"_index\": \"my_index\"}},\n",
    "    {\"rfile_name\": \"서귀포\", \"rfile_text\": \"대한민국 제주도 최남단에 있는 도시이다.\"},\n",
    "    # 추가 액션들\n",
    "]\n",
    "\n",
    "# bulk 함수 호출\n",
    "response = es.bulk(body=actions)\n",
    "print(response)"
   ]
  },
  {
   "cell_type": "code",
   "execution_count": null,
   "id": "7fd44b19-4be6-4e4a-9229-ad60533c9209",
   "metadata": {},
   "outputs": [],
   "source": [
    "res = es.indices.delete(index=\"my_index\")\n",
    "print(res)"
   ]
  },
  {
   "cell_type": "code",
   "execution_count": null,
   "id": "2f90b471-8bac-40e3-94a7-88a624630bba",
   "metadata": {},
   "outputs": [],
   "source": [
    "client.index(\n",
    "    index=\"my_index\",\n",
    "    id=\"my_document_id\",\n",
    "    document={\n",
    "        \"foo\": \"foo\",\n",
    "        \"bar\": \"bar\",\n",
    "    }\n",
    ")"
   ]
  },
  {
   "cell_type": "code",
   "execution_count": null,
   "id": "f86fe20e-5b6f-4068-8baf-84009f09f288",
   "metadata": {},
   "outputs": [],
   "source": [
    "client.index?"
   ]
  },
  {
   "cell_type": "code",
   "execution_count": null,
   "id": "a811cc4b-177d-4d85-9dad-1a1c20a839c0",
   "metadata": {},
   "outputs": [],
   "source": [
    "client.get(index=\"my_index\", id=\"my_document_id\")"
   ]
  },
  {
   "cell_type": "code",
   "execution_count": null,
   "id": "687fdbb4-4b56-4121-aeee-4d38ff2b5c92",
   "metadata": {},
   "outputs": [],
   "source": [
    "client.update(index=\"my_index\", id=\"my_document_id\", doc={\n",
    "    \"foo\": \"bar\",\n",
    "    \"new_field\": \"new value\",\n",
    "})"
   ]
  },
  {
   "cell_type": "code",
   "execution_count": null,
   "id": "84384e7b-4059-4122-8268-48f8538de8aa",
   "metadata": {},
   "outputs": [],
   "source": [
    "es.delete(index=\"my_index\", id=\"my_document_id\")"
   ]
  },
  {
   "cell_type": "code",
   "execution_count": null,
   "id": "81f4e568-c634-4927-9072-cf19649043b6",
   "metadata": {},
   "outputs": [],
   "source": [
    "es.indices.delete(index=\"my_index\")"
   ]
  },
  {
   "cell_type": "code",
   "execution_count": null,
   "id": "6c825749-d5a4-475e-a122-e71e4c5c41f3",
   "metadata": {},
   "outputs": [],
   "source": []
  }
 ],
 "metadata": {
  "kernelspec": {
   "display_name": "Python 3 (ipykernel)",
   "language": "python",
   "name": "python3"
  },
  "language_info": {
   "codemirror_mode": {
    "name": "ipython",
    "version": 3
   },
   "file_extension": ".py",
   "mimetype": "text/x-python",
   "name": "python",
   "nbconvert_exporter": "python",
   "pygments_lexer": "ipython3",
   "version": "3.10.12"
  }
 },
 "nbformat": 4,
 "nbformat_minor": 5
}
