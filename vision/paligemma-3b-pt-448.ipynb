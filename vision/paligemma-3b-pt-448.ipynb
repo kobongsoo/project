{
 "cells": [
  {
   "cell_type": "code",
   "execution_count": null,
   "id": "31f2db10-4404-48c4-ba39-a274daacf149",
   "metadata": {},
   "outputs": [],
   "source": [
    "# 출처 : https://huggingface.co/google/paligemma-3b-pt-448\n",
    "import torch\n",
    "import time\n",
    "from transformers import AutoProcessor, PaliGemmaForConditionalGeneration\n",
    "\n",
    "start_time = time.time()\n",
    "\n",
    "model_id = \"google/paligemma-3b-mix-448\"\n",
    "device = \"cuda:0\"\n",
    "dtype = torch.bfloat16\n",
    "\n",
    "model = PaliGemmaForConditionalGeneration.from_pretrained(\n",
    "    model_id,\n",
    "    torch_dtype=dtype,\n",
    "    device_map=device,\n",
    "    revision=\"bfloat16\",\n",
    ").eval()\n",
    "\n",
    "processor = AutoProcessor.from_pretrained(model_id)\n",
    "\n",
    "# 소요된 시간을 계산합니다.\n",
    "end_time = time.time()\n",
    "formatted_elapsed_time = \"{:.2f}\".format(end_time - start_time)\n",
    "print(f'*time:{formatted_elapsed_time}')"
   ]
  },
  {
   "cell_type": "code",
   "execution_count": null,
   "id": "5b155362-cce3-4df3-82e3-daf40997d9ab",
   "metadata": {},
   "outputs": [],
   "source": [
    "# 로컬 폴더에 저장 (예: ./model/paligemma-3b-mix-448 폴더에 저장)\n",
    "folder = \"./model/paligemma-3b-mix-448\"\n",
    "model.save_pretrained(folder, safe_serialization=False)\n",
    "processor.save_pretrained(folder)"
   ]
  },
  {
   "cell_type": "code",
   "execution_count": 2,
   "id": "9530e803-fd61-47a6-8d31-2350f7966c1d",
   "metadata": {},
   "outputs": [
    {
     "name": "stderr",
     "output_type": "stream",
     "text": [
      "`config.hidden_act` is ignored, you should use `config.hidden_activation` instead.\n",
      "Gemma's activation function will be set to `gelu_pytorch_tanh`. Please, use\n",
      "`config.hidden_activation` if you want to override this behaviour.\n",
      "See https://github.com/huggingface/transformers/pull/29402 for more details.\n"
     ]
    },
    {
     "data": {
      "application/vnd.jupyter.widget-view+json": {
       "model_id": "1a2ce6a494254e00955dddc5263e8849",
       "version_major": 2,
       "version_minor": 0
      },
      "text/plain": [
       "Loading checkpoint shards:   0%|          | 0/2 [00:00<?, ?it/s]"
      ]
     },
     "metadata": {},
     "output_type": "display_data"
    },
    {
     "name": "stdout",
     "output_type": "stream",
     "text": [
      "*time:6.04\n"
     ]
    }
   ],
   "source": [
    "import torch\n",
    "import time\n",
    "from transformers import AutoProcessor, PaliGemmaForConditionalGeneration\n",
    "\n",
    "start_time = time.time()\n",
    "\n",
    "# 로컬 파일에서 모델과 프로세서 불러오기\n",
    "folder = \"./model/paligemma-3b-mix-448\"\n",
    "device = \"cuda:0\"\n",
    "dtype = torch.bfloat16\n",
    "\n",
    "model = PaliGemmaForConditionalGeneration.from_pretrained(\n",
    "    folder,\n",
    "    torch_dtype=dtype,\n",
    "    device_map=device,\n",
    "    revision=\"bfloat16\",\n",
    ").eval()\n",
    "processor = AutoProcessor.from_pretrained(folder)\n",
    "\n",
    "# 소요된 시간을 계산합니다.\n",
    "end_time = time.time()\n",
    "formatted_elapsed_time = \"{:.2f}\".format(end_time - start_time)\n",
    "print(f'*time:{formatted_elapsed_time}')"
   ]
  },
  {
   "cell_type": "code",
   "execution_count": 8,
   "id": "e5f97161-776c-4582-b43a-350acf79e82d",
   "metadata": {},
   "outputs": [
    {
     "name": "stdout",
     "output_type": "stream",
     "text": [
      "A serene lake surrounded by towering mountains and lush trees. The water mirrors the sky above, reflecting the vibrant green leaves of the trees. A lone tree stands tall in the center of the lake, its branches reaching towards the sky. The mountains pierce the sky, their peaks adorned with trees. The river flows gracefully alongside the lake, its water flowing smoothly. The trees lining the shore cast long shadows on the water, creating a picturesque scene.\n",
      "*time:2.26\n"
     ]
    }
   ],
   "source": [
    "from PIL import Image\n",
    "import requests\n",
    "import time\n",
    "\n",
    "start_time = time.time()\n",
    "\n",
    "#url = \"https://huggingface.co/datasets/huggingface/documentation-images/resolve/main/transformers/tasks/car.jpg?download=true\"\n",
    "#image = Image.open(requests.get(url, stream=True).raw)\n",
    "image = Image.open(\"./data/nature.jpg\") # 로컬이미지 불러옴\n",
    "\n",
    "# Instruct the model to create a caption in Spanish\n",
    "prompt = \"Describe the image\"\n",
    "model_inputs = processor(text=prompt, images=image, return_tensors=\"pt\").to(model.device)\n",
    "input_len = model_inputs[\"input_ids\"].shape[-1]\n",
    "\n",
    "with torch.inference_mode():\n",
    "    generation = model.generate(**model_inputs, max_new_tokens=500, do_sample=False)\n",
    "    generation = generation[0][input_len:]\n",
    "    decoded = processor.decode(generation, skip_special_tokens=True)\n",
    "    print(decoded)\n",
    "    \n",
    "# 소요된 시간을 계산합니다.\n",
    "end_time = time.time()\n",
    "formatted_elapsed_time = \"{:.2f}\".format(end_time - start_time)\n",
    "print(f'*time:{formatted_elapsed_time}')\n"
   ]
  },
  {
   "cell_type": "code",
   "execution_count": null,
   "id": "3e0d4e6e-accb-4d7c-8275-1f7bd5f07347",
   "metadata": {},
   "outputs": [],
   "source": [
    "model.generate?"
   ]
  },
  {
   "cell_type": "code",
   "execution_count": null,
   "id": "25756106-ee4d-4559-bf3e-bb157577913f",
   "metadata": {},
   "outputs": [],
   "source": [
    "# 번역 => 영문을 한국어로 번역\n",
    "#!pip install googletrans==4.0.0-rc1\n",
    "from googletrans import Translator\n",
    "def translate_google(text:str, source_lang:str, target_lang:str):\n",
    "    translator = Translator()\n",
    "    \n",
    "    start_time = time.time()\n",
    "    res = translator.translate(text, src=source_lang, dest=target_lang)\n",
    "\n",
    "    # 소요된 시간을 계산합니다.\n",
    "    end_time = time.time()\n",
    "    formatted_elapsed_time = \"{:.2f}\".format(end_time - start_time)\n",
    "    print(f'time:{formatted_elapsed_time}')\n",
    "\n",
    "    print(res)\n",
    "    print()\n",
    "    response = res.text.strip('\"')\n",
    "    return response\n",
    "\n",
    "text = translate_google(text=decoded, source_lang='en', target_lang='ko')\n",
    "print(text)"
   ]
  },
  {
   "cell_type": "code",
   "execution_count": null,
   "id": "a878c52f-5033-43ae-9421-c4c96cc89b88",
   "metadata": {},
   "outputs": [],
   "source": []
  }
 ],
 "metadata": {
  "kernelspec": {
   "display_name": "Python 3 (ipykernel)",
   "language": "python",
   "name": "python3"
  },
  "language_info": {
   "codemirror_mode": {
    "name": "ipython",
    "version": 3
   },
   "file_extension": ".py",
   "mimetype": "text/x-python",
   "name": "python",
   "nbconvert_exporter": "python",
   "pygments_lexer": "ipython3",
   "version": "3.9.7"
  }
 },
 "nbformat": 4,
 "nbformat_minor": 5
}
