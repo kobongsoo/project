{
 "cells": [
  {
   "cell_type": "code",
   "execution_count": null,
   "id": "f3583ba3-d655-417e-aaa1-76c65e0df43d",
   "metadata": {},
   "outputs": [],
   "source": [
    "# 출처 : https://huggingface.co/microsoft/Phi-3-vision-128k-instruct\n",
    "\n",
    "import time\n",
    "from transformers import AutoModelForCausalLM \n",
    "from transformers import AutoProcessor \n",
    "\n",
    "start_time = time.time()\n",
    "model_id = \"microsoft/Phi-3-vision-128k-instruct\" \n",
    "\n",
    "model = AutoModelForCausalLM.from_pretrained(model_id, device_map=\"cuda\", trust_remote_code=True, torch_dtype=\"auto\", _attn_implementation='flash_attention_2') # use _attn_implementation='eager' to disable flash attention\n",
    "\n",
    "processor = AutoProcessor.from_pretrained(model_id, trust_remote_code=True) \n",
    "\n",
    "# 소요된 시간을 계산합니다.\n",
    "end_time = time.time()\n",
    "formatted_elapsed_time = \"{:.2f}\".format(end_time - start_time)\n",
    "print(f'*time:{formatted_elapsed_time}')"
   ]
  },
  {
   "cell_type": "code",
   "execution_count": null,
   "id": "b66091e1-0bd2-4764-bc64-892ab7425e78",
   "metadata": {},
   "outputs": [],
   "source": [
    "# 로컬 폴더에 저장 (예: ./model/Phi-3-vision-128k-instruct 폴더에 저장)\n",
    "folder = \"./model/Phi-3-vision-128k-instruct\"\n",
    "model.save_pretrained(folder, safe_serialization=False)\n",
    "processor.save_pretrained(folder)"
   ]
  },
  {
   "cell_type": "code",
   "execution_count": 2,
   "id": "bb802ed7-2d20-4e5d-83f2-9d2dfdbb0e14",
   "metadata": {},
   "outputs": [
    {
     "data": {
      "application/vnd.jupyter.widget-view+json": {
       "model_id": "6c437f0670cc4f7b8f51627719cc7b0c",
       "version_major": 2,
       "version_minor": 0
      },
      "text/plain": [
       "Loading checkpoint shards:   0%|          | 0/2 [00:00<?, ?it/s]"
      ]
     },
     "metadata": {},
     "output_type": "display_data"
    },
    {
     "name": "stderr",
     "output_type": "stream",
     "text": [
      "/MOCOMSYS/anaconda3/envs/bong/lib/python3.9/site-packages/transformers/models/auto/image_processing_auto.py:507: FutureWarning: The image_processor_class argument is deprecated and will be removed in v4.42. Please use `slow_image_processor_class`, or `fast_image_processor_class` instead\n",
      "  warnings.warn(\n",
      "Special tokens have been added in the vocabulary, make sure the associated word embeddings are fine-tuned or trained.\n"
     ]
    },
    {
     "name": "stdout",
     "output_type": "stream",
     "text": [
      "*time:7.70\n"
     ]
    }
   ],
   "source": [
    "import time\n",
    "from transformers import AutoModelForCausalLM \n",
    "from transformers import AutoProcessor \n",
    "\n",
    "start_time = time.time()\n",
    "\n",
    "# 로컬 파일에서 모델과 프로세서 불러오기\n",
    "folder = \"./model/Phi-3-vision-128k-instruct\"\n",
    "model = AutoModelForCausalLM.from_pretrained(folder, device_map=\"cuda\", trust_remote_code=True, torch_dtype=\"auto\", _attn_implementation='flash_attention_2')\n",
    "processor = AutoProcessor.from_pretrained(folder, trust_remote_code=True)\n",
    "\n",
    "# 소요된 시간을 계산합니다.\n",
    "end_time = time.time()\n",
    "formatted_elapsed_time = \"{:.2f}\".format(end_time - start_time)\n",
    "print(f'*time:{formatted_elapsed_time}')"
   ]
  },
  {
   "cell_type": "code",
   "execution_count": 3,
   "id": "e5c6652c-0ce5-4186-a971-83e3a2ae7190",
   "metadata": {},
   "outputs": [
    {
     "name": "stderr",
     "output_type": "stream",
     "text": [
      "/MOCOMSYS/anaconda3/envs/bong/lib/python3.9/site-packages/transformers/generation/configuration_utils.py:540: UserWarning: `do_sample` is set to `False`. However, `temperature` is set to `0.5` -- this flag is only used in sample-based generation modes. You should set `do_sample=True` or unset `temperature`.\n",
      "  warnings.warn(\n",
      "The `seen_tokens` attribute is deprecated and will be removed in v4.41. Use the `cache_position` model input instead.\n"
     ]
    },
    {
     "name": "stdout",
     "output_type": "stream",
     "text": [
      "*time:4.20\n",
      "The image features a vintage Volkswagen Beetle car with a teal and white color scheme, parked on a cobblestone street. The car is positioned in front of a yellow building with two doors, one of which is brown and the other is white. The sky is clear, suggesting it might be a sunny day.\n"
     ]
    }
   ],
   "source": [
    "import time\n",
    "from PIL import Image \n",
    "import requests \n",
    "\n",
    "start_time = time.time()\n",
    "    \n",
    "messages = [ \n",
    "    {\"role\": \"user\", \"content\": \"<|image_1|>\\nWhat is shown in this image?\"}, \n",
    "    #{\"role\": \"assistant\", \"content\": \"The chart displays the percentage of respondents who agree with various statements about their preparedness for meetings. It shows five categories: 'Having clear and pre-defined goals for meetings', 'Knowing where to find the information I need for a meeting', 'Understanding my exact role and responsibilities when I'm invited', 'Having tools to manage admin tasks like note-taking or summarization', and 'Having more focus time to sufficiently prepare for meetings'. Each category has an associated bar indicating the level of agreement, measured on a scale from 0% to 100%.\"}, \n",
    "    #{\"role\": \"user\", \"content\": \"Provide insightful questions to spark discussion.\"} \n",
    "    {\"role\": \"user\", \"content\": \"Describe the image content in detail.\"} \n",
    "] \n",
    "\n",
    "#url = \"https://assets-c4akfrf5b4d3f4b7.z01.azurefd.net/assets/2024/04/BMDataViz_661fb89f3845e.png\" \n",
    "#image = Image.open(requests.get(url, stream=True).raw) \n",
    "image = Image.open(\"./data/car.jpg\")\n",
    "\n",
    "prompt = processor.tokenizer.apply_chat_template(messages, tokenize=False, add_generation_prompt=True)\n",
    "\n",
    "inputs = processor(prompt, [image], return_tensors=\"pt\").to(\"cuda:0\") \n",
    "\n",
    "generation_args = { \n",
    "    \"max_new_tokens\": 500, \n",
    "    \"temperature\": 0.5, \n",
    "    \"do_sample\": False, \n",
    "} \n",
    "\n",
    "generate_ids = model.generate(**inputs, eos_token_id=processor.tokenizer.eos_token_id, **generation_args) \n",
    "\n",
    "# remove input tokens \n",
    "generate_ids = generate_ids[:, inputs['input_ids'].shape[1]:]\n",
    "response = processor.batch_decode(generate_ids, skip_special_tokens=True, clean_up_tokenization_spaces=False)[0] \n",
    "\n",
    " # 소요된 시간을 계산합니다.\n",
    "end_time = time.time()\n",
    "formatted_elapsed_time = \"{:.2f}\".format(end_time - start_time)\n",
    "print(f'*time:{formatted_elapsed_time}')\n",
    "    \n",
    "print(response)"
   ]
  },
  {
   "cell_type": "code",
   "execution_count": 4,
   "id": "99331368-b80e-4a25-84c7-03e6dc7a9a72",
   "metadata": {},
   "outputs": [
    {
     "name": "stdout",
     "output_type": "stream",
     "text": [
      "time:0.83\n",
      "Translated(src=en, dest=ko, text=이 이미지는 청록색과 흰색 구성표가있는 빈티지 폭스 바겐 딱정벌레 차량을 특징으로하며 조약돌 거리에 주차되었습니다.차는 두 개의 문이있는 노란 건물 앞에 위치하고 있으며 그 중 하나는 갈색이고 다른 하나는 흰색입니다.하늘은 깨끗하고 화창한 날 일 수 있음을 시사합니다., pronunciation=i imijineun cheonglogsaeggwa huinsaeg guseongpyogaissneun bintiji pogseu bagen ttagjeongbeolle chalyang-eul teugjing-eulohamyeo joyagdol geolie juchadoeeossseubnida. chaneun du gaeui mun-iissneun nolan geonmul ap-e wichihago iss-eumyeo geu jung hananeun galsaeg-igo daleun hananeun huinsaeg-ibnida. haneul-eun kkaekkeushago hwachanghan nal il su iss-eum-eul sisahabnida., extra_data=\"{'confiden...\")\n",
      "\n",
      "이 이미지는 청록색과 흰색 구성표가있는 빈티지 폭스 바겐 딱정벌레 차량을 특징으로하며 조약돌 거리에 주차되었습니다.차는 두 개의 문이있는 노란 건물 앞에 위치하고 있으며 그 중 하나는 갈색이고 다른 하나는 흰색입니다.하늘은 깨끗하고 화창한 날 일 수 있음을 시사합니다.\n"
     ]
    }
   ],
   "source": [
    "#!pip install googletrans==4.0.0-rc1\n",
    "from googletrans import Translator\n",
    "def translate_google(text:str, source_lang:str, target_lang:str):\n",
    "    translator = Translator()\n",
    "    \n",
    "    start_time = time.time()\n",
    "    res = translator.translate(text, src=source_lang, dest=target_lang)\n",
    "\n",
    "    # 소요된 시간을 계산합니다.\n",
    "    end_time = time.time()\n",
    "    formatted_elapsed_time = \"{:.2f}\".format(end_time - start_time)\n",
    "    print(f'time:{formatted_elapsed_time}')\n",
    "\n",
    "    print(res)\n",
    "    print()\n",
    "    response = res.text.strip('\"')\n",
    "    return response\n",
    "\n",
    "text = translate_google(text=response, source_lang='en', target_lang='ko')\n",
    "print(text)"
   ]
  },
  {
   "cell_type": "code",
   "execution_count": null,
   "id": "9dcd27aa-7bd8-423a-bcac-c93f333c114b",
   "metadata": {},
   "outputs": [],
   "source": []
  }
 ],
 "metadata": {
  "kernelspec": {
   "display_name": "Python 3 (ipykernel)",
   "language": "python",
   "name": "python3"
  },
  "language_info": {
   "codemirror_mode": {
    "name": "ipython",
    "version": 3
   },
   "file_extension": ".py",
   "mimetype": "text/x-python",
   "name": "python",
   "nbconvert_exporter": "python",
   "pygments_lexer": "ipython3",
   "version": "3.9.7"
  }
 },
 "nbformat": 4,
 "nbformat_minor": 5
}
