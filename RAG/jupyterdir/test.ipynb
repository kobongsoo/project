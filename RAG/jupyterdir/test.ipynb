{
 "cells": [
  {
   "cell_type": "code",
   "execution_count": null,
   "id": "094a0567-498e-4ed1-beef-81ddf2c57767",
   "metadata": {},
   "outputs": [],
   "source": [
    "import os\n",
    "from os import sys\n",
    "sys.path.append('../../MpowerAI')\n",
    "from pympower.classes.mshaai import MShaAI\n",
    "\n",
    "shaai = MShaAI()"
   ]
  },
  {
   "cell_type": "code",
   "execution_count": null,
   "id": "3c35fb6f-f847-4a1d-9962-f541f9de5938",
   "metadata": {},
   "outputs": [],
   "source": [
    "srcPath = \"./data/경조사지원규정.pdf\"\n",
    "tgtName = \"경조사지원규정.txt\"\n",
    "OUT_FOLDER = \"./data/out\"\n",
    "\n",
    "if not os.path.exists(OUT_FOLDER):\n",
    "    os.makedirs(OUT_FOLDER)\n",
    "\n",
    "tgtPath = f\"{OUT_FOLDER}/{tgtName}\"\n",
    "\n",
    "shaai.extract(srcPath=srcPath, tgtPath=tgtPath)"
   ]
  },
  {
   "cell_type": "code",
   "execution_count": null,
   "id": "66049db5-33d2-4ddf-9a6d-8dccdadd4192",
   "metadata": {},
   "outputs": [],
   "source": [
    "# URL 이미지 => 저장 하는 예제\n",
    "import requests\n",
    "from io import BytesIO\n",
    "from PIL import Image\n",
    "\n",
    "def download_save(url:str, max_size=(128, 128)):\n",
    "    save_path = \"./data/test.jpg\"\n",
    "    \n",
    "    #이미지다운로드\n",
    "    response = requests.get(url)\n",
    "    if response.status_code == 200:\n",
    "        # 이미지 열기\n",
    "        img = Image.open(BytesIO(response.content))\n",
    "      \n",
    "        # [bong][2024-06-28] \n",
    "        # 노래만들기 할때 .PNG 파일 업로드 하면 에러남.\n",
    "        # => PNG 파일은 투명도를 포함할 수 있는 RGBA 모드를 사용할 수 있는데, 그러나 JPEG는 투명도를 지원하지 않기 때문에 에러남.\n",
    "        #=> 따라서 PNG 파일을 JPEG로 변환시 투명 부분을 흰색으로 처리함.\n",
    "        if img.mode == 'RGBA':\n",
    "            # 흰색 배경의 새로운 이미지 생성\n",
    "            background = Image.new(\"RGB\", img.size, (255, 255, 255))\n",
    "            # 기존 이미지를 배경 이미지에 덮어쓰기\n",
    "            background.paste(img, (0, 0), img)\n",
    "            img = background\n",
    "            \n",
    "        # 이미지 크기 확인 및 조정\n",
    "        if img.size[0] > max_size[0] or img.size[1] > max_size[1]:\n",
    "            img.thumbnail(max_size)\n",
    "            \n",
    "        # JPG 형식으로 저장\n",
    "        img.save(save_path, \"JPEG\")\n",
    "        print(f\"이미지가 성공적으로 저장되었습니다: {save_path}\")\n",
    " \n",
    "url = \"https://talk.kakaocdn.net/dna/cgCWKI/bl6V8v6z9s5/rQjDUMvgkLE9Nfv9vbdUPj/i_c75fc38092bd.png?credential=zf3biCPbmWRjbqf40YGePFLewdou7TIK&expires=1814139966&signature=PqVn8TnouSuPJzXFqWzWZRxBZqI%3D\"\n",
    "\n",
    "download_save(url=url)"
   ]
  },
  {
   "cell_type": "code",
   "execution_count": null,
   "id": "b39de1a1-c1be-4aec-8c5e-fb2c01588ba1",
   "metadata": {},
   "outputs": [],
   "source": [
    "from utils import MyUtils\n",
    "myutils = MyUtils(yam_file_path='./data/settings.yaml')\n",
    "\n",
    "OUT_FOLDER = \"./files/out\"\n",
    "file_paths = myutils.getListOfFiles(OUT_FOLDER)\n",
    "for idx, file_path in enumerate(file_paths):\n",
    "    if '.ipynb_checkpoints' not in file_path:\n",
    "        print(file_path)\n",
    "            "
   ]
  },
  {
   "cell_type": "code",
   "execution_count": null,
   "id": "26f11897-0805-47bc-af64-bb0e86a1c11e",
   "metadata": {},
   "outputs": [],
   "source": []
  }
 ],
 "metadata": {
  "kernelspec": {
   "display_name": "Python 3 (ipykernel)",
   "language": "python",
   "name": "python3"
  },
  "language_info": {
   "codemirror_mode": {
    "name": "ipython",
    "version": 3
   },
   "file_extension": ".py",
   "mimetype": "text/x-python",
   "name": "python",
   "nbconvert_exporter": "python",
   "pygments_lexer": "ipython3",
   "version": "3.9.7"
  }
 },
 "nbformat": 4,
 "nbformat_minor": 5
}
